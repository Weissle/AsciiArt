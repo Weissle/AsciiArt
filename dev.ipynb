{
 "cells": [
  {
   "cell_type": "code",
   "execution_count": null,
   "id": "canadian-automation",
   "metadata": {},
   "outputs": [],
   "source": [
    "%matplotlib inline\n",
    "import string\n",
    "from PIL import Image, ImageDraw, ImageFont\n",
    "import pathlib\n",
    "import numpy as np\n",
    "from matplotlib import pyplot as plt\n",
    "import cv2\n"
   ]
  },
  {
   "cell_type": "code",
   "execution_count": null,
   "id": "b11cc858",
   "metadata": {},
   "outputs": [],
   "source": [
    "im = cv2.imread(\"test.jpg\")\n",
    "# im = cv2.cvtColor(im,cv2.COLOR_BGR2RGB)\n",
    "shape = im.shape\n"
   ]
  },
  {
   "cell_type": "code",
   "execution_count": null,
   "id": "198da917",
   "metadata": {},
   "outputs": [],
   "source": [
    "shape[0]"
   ]
  },
  {
   "cell_type": "code",
   "execution_count": null,
   "id": "cc289237",
   "metadata": {},
   "outputs": [],
   "source": [
    "im2 = cv2.resize(im,(int(shape[1]/8),int(shape[0]/8)))\n"
   ]
  },
  {
   "cell_type": "code",
   "execution_count": null,
   "id": "824edb2c",
   "metadata": {},
   "outputs": [],
   "source": [
    "def get_char_list():\n",
    "    f = open('char_sorted.txt','r')\n",
    "    l = f.readline()\n",
    "    f.close()\n",
    "    return list(l)"
   ]
  },
  {
   "cell_type": "code",
   "execution_count": null,
   "id": "722692ff",
   "metadata": {},
   "outputs": [],
   "source": [
    "char_list = get_char_list()"
   ]
  },
  {
   "cell_type": "code",
   "execution_count": null,
   "id": "c0a502a6",
   "metadata": {},
   "outputs": [],
   "source": [
    "def img2chars(img,char_list):\n",
    "    res = []\n",
    "    img = cv2.cvtColor(img,cv2.COLOR_BGR2GRAY)\n",
    "    img = img.astype(np.float)\n",
    "    per = img/255\n",
    "    indexes = (per * (len(char_list)-1)).astype(np.int)\n",
    "    height,width = img.shape\n",
    "    \n",
    "    ret = Image.new(\"RGB\",(height,width),(255,255,255))\n",
    "    fnt = ImageFont.truetype('resources/ASCII/ASCII.ttf',5)\n",
    "    d = ImageDraw.Draw(ret)\n",
    "    \n",
    "    for row in range(height):\n",
    "        line = ''\n",
    "        for col in range(width):\n",
    "            index = int(indexes[row][col])\n",
    "            line += char_list[index]\n",
    "        #res.append(line)\n",
    "        d.text((5*row,5*col),line,fill=(0,0,0))\n",
    "    return ret"
   ]
  },
  {
   "cell_type": "code",
   "execution_count": null,
   "id": "2adfe077",
   "metadata": {},
   "outputs": [],
   "source": [
    "img = im2\n",
    "res = []\n",
    "img = cv2.cvtColor(im2,cv2.COLOR_RGB2GRAY)\n",
    "# plt.imshow(img,cmap='gray')\n",
    "img = img.astype(np.float)\n",
    "per = img/255\n",
    "indexes = (per * (len(char_list)-1)).astype(np.int)\n",
    "height,width = img.shape\n",
    "print(img.shape)\n",
    "fnt = ImageFont.load_default()\n",
    "char_width,char_height = fnt.getsize('A')\n",
    "ret = Image.new(\"RGB\",(char_width*width,height*char_height),(255,255,255))\n",
    "\n",
    "d = ImageDraw.Draw(ret)\n",
    "\n",
    "for row in range(height):\n",
    "    line = ''\n",
    "    for col in range(width):\n",
    "        index = int(indexes[row][col])\n",
    "        line += char_list[index]\n",
    "        \n",
    "    #res.append(line)\n",
    "#     print(line)\n",
    "    d.text((0,row*char_height),line+'\\n',fill=(0,0,0),font=fnt)"
   ]
  },
  {
   "cell_type": "code",
   "execution_count": null,
   "id": "a80828d2",
   "metadata": {},
   "outputs": [],
   "source": [
    "img.shape\n",
    "ret = np.array(ret)\n",
    "print(ret.shape)\n",
    "plt.imshow(ret)"
   ]
  },
  {
   "cell_type": "code",
   "execution_count": null,
   "id": "9c2b81f7",
   "metadata": {},
   "outputs": [],
   "source": [
    "tmp = img2chars(im2,char_list)\n",
    "tmp2 = np.array(tmp)\n",
    "\n",
    "plt.imshow(tmp2)\n"
   ]
  },
  {
   "cell_type": "code",
   "execution_count": null,
   "id": "a74e3bf8",
   "metadata": {},
   "outputs": [],
   "source": [
    "tmp2.shape"
   ]
  },
  {
   "cell_type": "code",
   "execution_count": null,
   "id": "dfbc168f",
   "metadata": {},
   "outputs": [],
   "source": [
    "sav = Image.fromarray(ret)"
   ]
  },
  {
   "cell_type": "code",
   "execution_count": null,
   "id": "009b01b5",
   "metadata": {},
   "outputs": [],
   "source": [
    "sav.save('output.jpg')"
   ]
  },
  {
   "cell_type": "code",
   "execution_count": null,
   "id": "d9339859",
   "metadata": {},
   "outputs": [],
   "source": []
  }
 ],
 "metadata": {
  "kernelspec": {
   "display_name": "Python 3",
   "language": "python",
   "name": "python3"
  },
  "language_info": {
   "codemirror_mode": {
    "name": "ipython",
    "version": 3
   },
   "file_extension": ".py",
   "mimetype": "text/x-python",
   "name": "python",
   "nbconvert_exporter": "python",
   "pygments_lexer": "ipython3",
   "version": "3.8.11"
  }
 },
 "nbformat": 4,
 "nbformat_minor": 5
}
